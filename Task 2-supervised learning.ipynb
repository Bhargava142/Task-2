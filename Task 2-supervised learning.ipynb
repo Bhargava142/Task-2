{
 "cells": [
  {
   "cell_type": "markdown",
   "id": "b36c2562",
   "metadata": {},
   "source": [
    "# Author : Bhargav G"
   ]
  },
  {
   "cell_type": "markdown",
   "id": "b71af5a5",
   "metadata": {},
   "source": [
    "# GRIP @ The Sparks Foundation"
   ]
  },
  {
   "cell_type": "markdown",
   "id": "c4fda114",
   "metadata": {},
   "source": [
    "# Data Science And Business Analysis Internship"
   ]
  },
  {
   "cell_type": "markdown",
   "id": "3f333501",
   "metadata": {},
   "source": [
    "## Task2 : Prediction Using Unsupervised ML"
   ]
  },
  {
   "cell_type": "markdown",
   "id": "17a32913",
   "metadata": {},
   "source": [
    "### Step 1:- Importing required libraries"
   ]
  },
  {
   "cell_type": "code",
   "execution_count": 1,
   "id": "b4ae84ed",
   "metadata": {},
   "outputs": [],
   "source": [
    "import numpy as np\n",
    "import matplotlib.pyplot as plt\n",
    "%matplotlib inline\n",
    "import pandas as pd\n",
    "import sklearn.metrics as metrics\n",
    "from sklearn.datasets import load_iris\n",
    "from sklearn.model_selection import train_test_split\n",
    "\n",
    "\n"
   ]
  },
  {
   "cell_type": "code",
   "execution_count": 2,
   "id": "4253fc73",
   "metadata": {},
   "outputs": [],
   "source": [
    "import warnings\n",
    "warnings.simplefilter(action = 'ignore' , category = FutureWarning)\n",
    "warnings.filterwarnings('ignore')\n"
   ]
  },
  {
   "cell_type": "markdown",
   "id": "7af81770",
   "metadata": {},
   "source": [
    "### Step 2:- Gathering Data For Analysis"
   ]
  },
  {
   "cell_type": "code",
   "execution_count": 3,
   "id": "f82abff6",
   "metadata": {},
   "outputs": [
    {
     "data": {
      "text/html": [
       "<div>\n",
       "<style scoped>\n",
       "    .dataframe tbody tr th:only-of-type {\n",
       "        vertical-align: middle;\n",
       "    }\n",
       "\n",
       "    .dataframe tbody tr th {\n",
       "        vertical-align: top;\n",
       "    }\n",
       "\n",
       "    .dataframe thead th {\n",
       "        text-align: right;\n",
       "    }\n",
       "</style>\n",
       "<table border=\"1\" class=\"dataframe\">\n",
       "  <thead>\n",
       "    <tr style=\"text-align: right;\">\n",
       "      <th></th>\n",
       "      <th>Id</th>\n",
       "      <th>SepalLengthCm</th>\n",
       "      <th>SepalWidthCm</th>\n",
       "      <th>PetalLengthCm</th>\n",
       "      <th>PetalWidthCm</th>\n",
       "      <th>Species</th>\n",
       "    </tr>\n",
       "  </thead>\n",
       "  <tbody>\n",
       "    <tr>\n",
       "      <th>0</th>\n",
       "      <td>1</td>\n",
       "      <td>5.1</td>\n",
       "      <td>3.5</td>\n",
       "      <td>1.4</td>\n",
       "      <td>0.2</td>\n",
       "      <td>Iris-setosa</td>\n",
       "    </tr>\n",
       "    <tr>\n",
       "      <th>1</th>\n",
       "      <td>2</td>\n",
       "      <td>4.9</td>\n",
       "      <td>3.0</td>\n",
       "      <td>1.4</td>\n",
       "      <td>0.2</td>\n",
       "      <td>Iris-setosa</td>\n",
       "    </tr>\n",
       "    <tr>\n",
       "      <th>2</th>\n",
       "      <td>3</td>\n",
       "      <td>4.7</td>\n",
       "      <td>3.2</td>\n",
       "      <td>1.3</td>\n",
       "      <td>0.2</td>\n",
       "      <td>Iris-setosa</td>\n",
       "    </tr>\n",
       "    <tr>\n",
       "      <th>3</th>\n",
       "      <td>4</td>\n",
       "      <td>4.6</td>\n",
       "      <td>3.1</td>\n",
       "      <td>1.5</td>\n",
       "      <td>0.2</td>\n",
       "      <td>Iris-setosa</td>\n",
       "    </tr>\n",
       "    <tr>\n",
       "      <th>4</th>\n",
       "      <td>5</td>\n",
       "      <td>5.0</td>\n",
       "      <td>3.6</td>\n",
       "      <td>1.4</td>\n",
       "      <td>0.2</td>\n",
       "      <td>Iris-setosa</td>\n",
       "    </tr>\n",
       "    <tr>\n",
       "      <th>...</th>\n",
       "      <td>...</td>\n",
       "      <td>...</td>\n",
       "      <td>...</td>\n",
       "      <td>...</td>\n",
       "      <td>...</td>\n",
       "      <td>...</td>\n",
       "    </tr>\n",
       "    <tr>\n",
       "      <th>145</th>\n",
       "      <td>146</td>\n",
       "      <td>6.7</td>\n",
       "      <td>3.0</td>\n",
       "      <td>5.2</td>\n",
       "      <td>2.3</td>\n",
       "      <td>Iris-virginica</td>\n",
       "    </tr>\n",
       "    <tr>\n",
       "      <th>146</th>\n",
       "      <td>147</td>\n",
       "      <td>6.3</td>\n",
       "      <td>2.5</td>\n",
       "      <td>5.0</td>\n",
       "      <td>1.9</td>\n",
       "      <td>Iris-virginica</td>\n",
       "    </tr>\n",
       "    <tr>\n",
       "      <th>147</th>\n",
       "      <td>148</td>\n",
       "      <td>6.5</td>\n",
       "      <td>3.0</td>\n",
       "      <td>5.2</td>\n",
       "      <td>2.0</td>\n",
       "      <td>Iris-virginica</td>\n",
       "    </tr>\n",
       "    <tr>\n",
       "      <th>148</th>\n",
       "      <td>149</td>\n",
       "      <td>6.2</td>\n",
       "      <td>3.4</td>\n",
       "      <td>5.4</td>\n",
       "      <td>2.3</td>\n",
       "      <td>Iris-virginica</td>\n",
       "    </tr>\n",
       "    <tr>\n",
       "      <th>149</th>\n",
       "      <td>150</td>\n",
       "      <td>5.9</td>\n",
       "      <td>3.0</td>\n",
       "      <td>5.1</td>\n",
       "      <td>1.8</td>\n",
       "      <td>Iris-virginica</td>\n",
       "    </tr>\n",
       "  </tbody>\n",
       "</table>\n",
       "<p>150 rows × 6 columns</p>\n",
       "</div>"
      ],
      "text/plain": [
       "      Id  SepalLengthCm  SepalWidthCm  PetalLengthCm  PetalWidthCm  \\\n",
       "0      1            5.1           3.5            1.4           0.2   \n",
       "1      2            4.9           3.0            1.4           0.2   \n",
       "2      3            4.7           3.2            1.3           0.2   \n",
       "3      4            4.6           3.1            1.5           0.2   \n",
       "4      5            5.0           3.6            1.4           0.2   \n",
       "..   ...            ...           ...            ...           ...   \n",
       "145  146            6.7           3.0            5.2           2.3   \n",
       "146  147            6.3           2.5            5.0           1.9   \n",
       "147  148            6.5           3.0            5.2           2.0   \n",
       "148  149            6.2           3.4            5.4           2.3   \n",
       "149  150            5.9           3.0            5.1           1.8   \n",
       "\n",
       "            Species  \n",
       "0       Iris-setosa  \n",
       "1       Iris-setosa  \n",
       "2       Iris-setosa  \n",
       "3       Iris-setosa  \n",
       "4       Iris-setosa  \n",
       "..              ...  \n",
       "145  Iris-virginica  \n",
       "146  Iris-virginica  \n",
       "147  Iris-virginica  \n",
       "148  Iris-virginica  \n",
       "149  Iris-virginica  \n",
       "\n",
       "[150 rows x 6 columns]"
      ]
     },
     "execution_count": 3,
     "metadata": {},
     "output_type": "execute_result"
    }
   ],
   "source": [
    "data = pd.read_csv('Iris.csv')\n",
    "data\n"
   ]
  },
  {
   "cell_type": "markdown",
   "id": "aec06872",
   "metadata": {},
   "source": [
    "#### K-Means Clustering is an unsupervised learning algorithm that is used to solve the clustering problems in machine learning or data science. In Iris dataset, there are four features."
   ]
  },
  {
   "cell_type": "code",
   "execution_count": 4,
   "id": "5545af0b",
   "metadata": {
    "scrolled": true
   },
   "outputs": [
    {
     "data": {
      "text/html": [
       "<div>\n",
       "<style scoped>\n",
       "    .dataframe tbody tr th:only-of-type {\n",
       "        vertical-align: middle;\n",
       "    }\n",
       "\n",
       "    .dataframe tbody tr th {\n",
       "        vertical-align: top;\n",
       "    }\n",
       "\n",
       "    .dataframe thead th {\n",
       "        text-align: right;\n",
       "    }\n",
       "</style>\n",
       "<table border=\"1\" class=\"dataframe\">\n",
       "  <thead>\n",
       "    <tr style=\"text-align: right;\">\n",
       "      <th></th>\n",
       "      <th>Id</th>\n",
       "      <th>SepalLengthCm</th>\n",
       "      <th>SepalWidthCm</th>\n",
       "      <th>PetalLengthCm</th>\n",
       "      <th>PetalWidthCm</th>\n",
       "      <th>Species</th>\n",
       "    </tr>\n",
       "  </thead>\n",
       "  <tbody>\n",
       "    <tr>\n",
       "      <th>0</th>\n",
       "      <td>1</td>\n",
       "      <td>5.1</td>\n",
       "      <td>3.5</td>\n",
       "      <td>1.4</td>\n",
       "      <td>0.2</td>\n",
       "      <td>Iris-setosa</td>\n",
       "    </tr>\n",
       "    <tr>\n",
       "      <th>1</th>\n",
       "      <td>2</td>\n",
       "      <td>4.9</td>\n",
       "      <td>3.0</td>\n",
       "      <td>1.4</td>\n",
       "      <td>0.2</td>\n",
       "      <td>Iris-setosa</td>\n",
       "    </tr>\n",
       "    <tr>\n",
       "      <th>2</th>\n",
       "      <td>3</td>\n",
       "      <td>4.7</td>\n",
       "      <td>3.2</td>\n",
       "      <td>1.3</td>\n",
       "      <td>0.2</td>\n",
       "      <td>Iris-setosa</td>\n",
       "    </tr>\n",
       "    <tr>\n",
       "      <th>3</th>\n",
       "      <td>4</td>\n",
       "      <td>4.6</td>\n",
       "      <td>3.1</td>\n",
       "      <td>1.5</td>\n",
       "      <td>0.2</td>\n",
       "      <td>Iris-setosa</td>\n",
       "    </tr>\n",
       "    <tr>\n",
       "      <th>4</th>\n",
       "      <td>5</td>\n",
       "      <td>5.0</td>\n",
       "      <td>3.6</td>\n",
       "      <td>1.4</td>\n",
       "      <td>0.2</td>\n",
       "      <td>Iris-setosa</td>\n",
       "    </tr>\n",
       "  </tbody>\n",
       "</table>\n",
       "</div>"
      ],
      "text/plain": [
       "   Id  SepalLengthCm  SepalWidthCm  PetalLengthCm  PetalWidthCm      Species\n",
       "0   1            5.1           3.5            1.4           0.2  Iris-setosa\n",
       "1   2            4.9           3.0            1.4           0.2  Iris-setosa\n",
       "2   3            4.7           3.2            1.3           0.2  Iris-setosa\n",
       "3   4            4.6           3.1            1.5           0.2  Iris-setosa\n",
       "4   5            5.0           3.6            1.4           0.2  Iris-setosa"
      ]
     },
     "execution_count": 4,
     "metadata": {},
     "output_type": "execute_result"
    }
   ],
   "source": [
    "data.head()"
   ]
  },
  {
   "cell_type": "markdown",
   "id": "bec16133",
   "metadata": {},
   "source": [
    "### Step 3:- Discovering and Visualizing the data along with some statistical properties"
   ]
  },
  {
   "cell_type": "code",
   "execution_count": 5,
   "id": "ee5059fb",
   "metadata": {},
   "outputs": [
    {
     "name": "stdout",
     "output_type": "stream",
     "text": [
      "<class 'pandas.core.frame.DataFrame'>\n",
      "RangeIndex: 150 entries, 0 to 149\n",
      "Data columns (total 6 columns):\n",
      " #   Column         Non-Null Count  Dtype  \n",
      "---  ------         --------------  -----  \n",
      " 0   Id             150 non-null    int64  \n",
      " 1   SepalLengthCm  150 non-null    float64\n",
      " 2   SepalWidthCm   150 non-null    float64\n",
      " 3   PetalLengthCm  150 non-null    float64\n",
      " 4   PetalWidthCm   150 non-null    float64\n",
      " 5   Species        150 non-null    object \n",
      "dtypes: float64(4), int64(1), object(1)\n",
      "memory usage: 7.2+ KB\n"
     ]
    }
   ],
   "source": [
    "data.info()"
   ]
  },
  {
   "cell_type": "code",
   "execution_count": 6,
   "id": "367a94a2",
   "metadata": {},
   "outputs": [
    {
     "data": {
      "text/html": [
       "<div>\n",
       "<style scoped>\n",
       "    .dataframe tbody tr th:only-of-type {\n",
       "        vertical-align: middle;\n",
       "    }\n",
       "\n",
       "    .dataframe tbody tr th {\n",
       "        vertical-align: top;\n",
       "    }\n",
       "\n",
       "    .dataframe thead th {\n",
       "        text-align: right;\n",
       "    }\n",
       "</style>\n",
       "<table border=\"1\" class=\"dataframe\">\n",
       "  <thead>\n",
       "    <tr style=\"text-align: right;\">\n",
       "      <th></th>\n",
       "      <th>Id</th>\n",
       "      <th>SepalLengthCm</th>\n",
       "      <th>SepalWidthCm</th>\n",
       "      <th>PetalLengthCm</th>\n",
       "      <th>PetalWidthCm</th>\n",
       "    </tr>\n",
       "  </thead>\n",
       "  <tbody>\n",
       "    <tr>\n",
       "      <th>count</th>\n",
       "      <td>150.000000</td>\n",
       "      <td>150.000000</td>\n",
       "      <td>150.000000</td>\n",
       "      <td>150.000000</td>\n",
       "      <td>150.000000</td>\n",
       "    </tr>\n",
       "    <tr>\n",
       "      <th>mean</th>\n",
       "      <td>75.500000</td>\n",
       "      <td>5.843333</td>\n",
       "      <td>3.054000</td>\n",
       "      <td>3.758667</td>\n",
       "      <td>1.198667</td>\n",
       "    </tr>\n",
       "    <tr>\n",
       "      <th>std</th>\n",
       "      <td>43.445368</td>\n",
       "      <td>0.828066</td>\n",
       "      <td>0.433594</td>\n",
       "      <td>1.764420</td>\n",
       "      <td>0.763161</td>\n",
       "    </tr>\n",
       "    <tr>\n",
       "      <th>min</th>\n",
       "      <td>1.000000</td>\n",
       "      <td>4.300000</td>\n",
       "      <td>2.000000</td>\n",
       "      <td>1.000000</td>\n",
       "      <td>0.100000</td>\n",
       "    </tr>\n",
       "    <tr>\n",
       "      <th>25%</th>\n",
       "      <td>38.250000</td>\n",
       "      <td>5.100000</td>\n",
       "      <td>2.800000</td>\n",
       "      <td>1.600000</td>\n",
       "      <td>0.300000</td>\n",
       "    </tr>\n",
       "    <tr>\n",
       "      <th>50%</th>\n",
       "      <td>75.500000</td>\n",
       "      <td>5.800000</td>\n",
       "      <td>3.000000</td>\n",
       "      <td>4.350000</td>\n",
       "      <td>1.300000</td>\n",
       "    </tr>\n",
       "    <tr>\n",
       "      <th>75%</th>\n",
       "      <td>112.750000</td>\n",
       "      <td>6.400000</td>\n",
       "      <td>3.300000</td>\n",
       "      <td>5.100000</td>\n",
       "      <td>1.800000</td>\n",
       "    </tr>\n",
       "    <tr>\n",
       "      <th>max</th>\n",
       "      <td>150.000000</td>\n",
       "      <td>7.900000</td>\n",
       "      <td>4.400000</td>\n",
       "      <td>6.900000</td>\n",
       "      <td>2.500000</td>\n",
       "    </tr>\n",
       "  </tbody>\n",
       "</table>\n",
       "</div>"
      ],
      "text/plain": [
       "               Id  SepalLengthCm  SepalWidthCm  PetalLengthCm  PetalWidthCm\n",
       "count  150.000000     150.000000    150.000000     150.000000    150.000000\n",
       "mean    75.500000       5.843333      3.054000       3.758667      1.198667\n",
       "std     43.445368       0.828066      0.433594       1.764420      0.763161\n",
       "min      1.000000       4.300000      2.000000       1.000000      0.100000\n",
       "25%     38.250000       5.100000      2.800000       1.600000      0.300000\n",
       "50%     75.500000       5.800000      3.000000       4.350000      1.300000\n",
       "75%    112.750000       6.400000      3.300000       5.100000      1.800000\n",
       "max    150.000000       7.900000      4.400000       6.900000      2.500000"
      ]
     },
     "execution_count": 6,
     "metadata": {},
     "output_type": "execute_result"
    }
   ],
   "source": [
    "data.describe()"
   ]
  },
  {
   "cell_type": "code",
   "execution_count": 7,
   "id": "c5399ff8",
   "metadata": {},
   "outputs": [
    {
     "data": {
      "text/plain": [
       "(150, 6)"
      ]
     },
     "execution_count": 7,
     "metadata": {},
     "output_type": "execute_result"
    }
   ],
   "source": [
    "data.shape\n"
   ]
  },
  {
   "cell_type": "code",
   "execution_count": 8,
   "id": "0a5beeca",
   "metadata": {},
   "outputs": [
    {
     "data": {
      "text/plain": [
       "Index(['SepalLengthCm', 'SepalWidthCm', 'PetalLengthCm', 'PetalWidthCm',\n",
       "       'Species'],\n",
       "      dtype='object')"
      ]
     },
     "execution_count": 8,
     "metadata": {},
     "output_type": "execute_result"
    }
   ],
   "source": [
    "data.drop('Id', axis=1, inplace=True)\n",
    "data.columns"
   ]
  },
  {
   "cell_type": "markdown",
   "id": "7ff12fec",
   "metadata": {},
   "source": [
    "### Step 4:- Arrange data into Feature Matrix"
   ]
  },
  {
   "cell_type": "code",
   "execution_count": 9,
   "id": "f57df50c",
   "metadata": {},
   "outputs": [
    {
     "data": {
      "text/plain": [
       "array([[1.4, 0.2],\n",
       "       [1.4, 0.2],\n",
       "       [1.3, 0.2],\n",
       "       [1.5, 0.2],\n",
       "       [1.4, 0.2],\n",
       "       [1.7, 0.4],\n",
       "       [1.4, 0.3],\n",
       "       [1.5, 0.2],\n",
       "       [1.4, 0.2],\n",
       "       [1.5, 0.1],\n",
       "       [1.5, 0.2],\n",
       "       [1.6, 0.2],\n",
       "       [1.4, 0.1],\n",
       "       [1.1, 0.1],\n",
       "       [1.2, 0.2],\n",
       "       [1.5, 0.4],\n",
       "       [1.3, 0.4],\n",
       "       [1.4, 0.3],\n",
       "       [1.7, 0.3],\n",
       "       [1.5, 0.3],\n",
       "       [1.7, 0.2],\n",
       "       [1.5, 0.4],\n",
       "       [1. , 0.2],\n",
       "       [1.7, 0.5],\n",
       "       [1.9, 0.2],\n",
       "       [1.6, 0.2],\n",
       "       [1.6, 0.4],\n",
       "       [1.5, 0.2],\n",
       "       [1.4, 0.2],\n",
       "       [1.6, 0.2],\n",
       "       [1.6, 0.2],\n",
       "       [1.5, 0.4],\n",
       "       [1.5, 0.1],\n",
       "       [1.4, 0.2],\n",
       "       [1.5, 0.1],\n",
       "       [1.2, 0.2],\n",
       "       [1.3, 0.2],\n",
       "       [1.5, 0.1],\n",
       "       [1.3, 0.2],\n",
       "       [1.5, 0.2],\n",
       "       [1.3, 0.3],\n",
       "       [1.3, 0.3],\n",
       "       [1.3, 0.2],\n",
       "       [1.6, 0.6],\n",
       "       [1.9, 0.4],\n",
       "       [1.4, 0.3],\n",
       "       [1.6, 0.2],\n",
       "       [1.4, 0.2],\n",
       "       [1.5, 0.2],\n",
       "       [1.4, 0.2],\n",
       "       [4.7, 1.4],\n",
       "       [4.5, 1.5],\n",
       "       [4.9, 1.5],\n",
       "       [4. , 1.3],\n",
       "       [4.6, 1.5],\n",
       "       [4.5, 1.3],\n",
       "       [4.7, 1.6],\n",
       "       [3.3, 1. ],\n",
       "       [4.6, 1.3],\n",
       "       [3.9, 1.4],\n",
       "       [3.5, 1. ],\n",
       "       [4.2, 1.5],\n",
       "       [4. , 1. ],\n",
       "       [4.7, 1.4],\n",
       "       [3.6, 1.3],\n",
       "       [4.4, 1.4],\n",
       "       [4.5, 1.5],\n",
       "       [4.1, 1. ],\n",
       "       [4.5, 1.5],\n",
       "       [3.9, 1.1],\n",
       "       [4.8, 1.8],\n",
       "       [4. , 1.3],\n",
       "       [4.9, 1.5],\n",
       "       [4.7, 1.2],\n",
       "       [4.3, 1.3],\n",
       "       [4.4, 1.4],\n",
       "       [4.8, 1.4],\n",
       "       [5. , 1.7],\n",
       "       [4.5, 1.5],\n",
       "       [3.5, 1. ],\n",
       "       [3.8, 1.1],\n",
       "       [3.7, 1. ],\n",
       "       [3.9, 1.2],\n",
       "       [5.1, 1.6],\n",
       "       [4.5, 1.5],\n",
       "       [4.5, 1.6],\n",
       "       [4.7, 1.5],\n",
       "       [4.4, 1.3],\n",
       "       [4.1, 1.3],\n",
       "       [4. , 1.3],\n",
       "       [4.4, 1.2],\n",
       "       [4.6, 1.4],\n",
       "       [4. , 1.2],\n",
       "       [3.3, 1. ],\n",
       "       [4.2, 1.3],\n",
       "       [4.2, 1.2],\n",
       "       [4.2, 1.3],\n",
       "       [4.3, 1.3],\n",
       "       [3. , 1.1],\n",
       "       [4.1, 1.3],\n",
       "       [6. , 2.5],\n",
       "       [5.1, 1.9],\n",
       "       [5.9, 2.1],\n",
       "       [5.6, 1.8],\n",
       "       [5.8, 2.2],\n",
       "       [6.6, 2.1],\n",
       "       [4.5, 1.7],\n",
       "       [6.3, 1.8],\n",
       "       [5.8, 1.8],\n",
       "       [6.1, 2.5],\n",
       "       [5.1, 2. ],\n",
       "       [5.3, 1.9],\n",
       "       [5.5, 2.1],\n",
       "       [5. , 2. ],\n",
       "       [5.1, 2.4],\n",
       "       [5.3, 2.3],\n",
       "       [5.5, 1.8],\n",
       "       [6.7, 2.2],\n",
       "       [6.9, 2.3],\n",
       "       [5. , 1.5],\n",
       "       [5.7, 2.3],\n",
       "       [4.9, 2. ],\n",
       "       [6.7, 2. ],\n",
       "       [4.9, 1.8],\n",
       "       [5.7, 2.1],\n",
       "       [6. , 1.8],\n",
       "       [4.8, 1.8],\n",
       "       [4.9, 1.8],\n",
       "       [5.6, 2.1],\n",
       "       [5.8, 1.6],\n",
       "       [6.1, 1.9],\n",
       "       [6.4, 2. ],\n",
       "       [5.6, 2.2],\n",
       "       [5.1, 1.5],\n",
       "       [5.6, 1.4],\n",
       "       [6.1, 2.3],\n",
       "       [5.6, 2.4],\n",
       "       [5.5, 1.8],\n",
       "       [4.8, 1.8],\n",
       "       [5.4, 2.1],\n",
       "       [5.6, 2.4],\n",
       "       [5.1, 2.3],\n",
       "       [5.1, 1.9],\n",
       "       [5.9, 2.3],\n",
       "       [5.7, 2.5],\n",
       "       [5.2, 2.3],\n",
       "       [5. , 1.9],\n",
       "       [5.2, 2. ],\n",
       "       [5.4, 2.3],\n",
       "       [5.1, 1.8]])"
      ]
     },
     "execution_count": 9,
     "metadata": {},
     "output_type": "execute_result"
    }
   ],
   "source": [
    "features = ['PetalLengthCm','PetalWidthCm']\n",
    "x = data.loc[:, features].values\n",
    "x"
   ]
  },
  {
   "cell_type": "markdown",
   "id": "99a06f7d",
   "metadata": {},
   "source": [
    "### Step 5:-Standardize the Data"
   ]
  },
  {
   "cell_type": "code",
   "execution_count": 10,
   "id": "5b96bb2c",
   "metadata": {},
   "outputs": [
    {
     "data": {
      "text/plain": [
       "array([[-1.34127240e+00, -1.31297673e+00],\n",
       "       [-1.34127240e+00, -1.31297673e+00],\n",
       "       [-1.39813811e+00, -1.31297673e+00],\n",
       "       [-1.28440670e+00, -1.31297673e+00],\n",
       "       [-1.34127240e+00, -1.31297673e+00],\n",
       "       [-1.17067529e+00, -1.05003079e+00],\n",
       "       [-1.34127240e+00, -1.18150376e+00],\n",
       "       [-1.28440670e+00, -1.31297673e+00],\n",
       "       [-1.34127240e+00, -1.31297673e+00],\n",
       "       [-1.28440670e+00, -1.44444970e+00],\n",
       "       [-1.28440670e+00, -1.31297673e+00],\n",
       "       [-1.22754100e+00, -1.31297673e+00],\n",
       "       [-1.34127240e+00, -1.44444970e+00],\n",
       "       [-1.51186952e+00, -1.44444970e+00],\n",
       "       [-1.45500381e+00, -1.31297673e+00],\n",
       "       [-1.28440670e+00, -1.05003079e+00],\n",
       "       [-1.39813811e+00, -1.05003079e+00],\n",
       "       [-1.34127240e+00, -1.18150376e+00],\n",
       "       [-1.17067529e+00, -1.18150376e+00],\n",
       "       [-1.28440670e+00, -1.18150376e+00],\n",
       "       [-1.17067529e+00, -1.31297673e+00],\n",
       "       [-1.28440670e+00, -1.05003079e+00],\n",
       "       [-1.56873522e+00, -1.31297673e+00],\n",
       "       [-1.17067529e+00, -9.18557817e-01],\n",
       "       [-1.05694388e+00, -1.31297673e+00],\n",
       "       [-1.22754100e+00, -1.31297673e+00],\n",
       "       [-1.22754100e+00, -1.05003079e+00],\n",
       "       [-1.28440670e+00, -1.31297673e+00],\n",
       "       [-1.34127240e+00, -1.31297673e+00],\n",
       "       [-1.22754100e+00, -1.31297673e+00],\n",
       "       [-1.22754100e+00, -1.31297673e+00],\n",
       "       [-1.28440670e+00, -1.05003079e+00],\n",
       "       [-1.28440670e+00, -1.44444970e+00],\n",
       "       [-1.34127240e+00, -1.31297673e+00],\n",
       "       [-1.28440670e+00, -1.44444970e+00],\n",
       "       [-1.45500381e+00, -1.31297673e+00],\n",
       "       [-1.39813811e+00, -1.31297673e+00],\n",
       "       [-1.28440670e+00, -1.44444970e+00],\n",
       "       [-1.39813811e+00, -1.31297673e+00],\n",
       "       [-1.28440670e+00, -1.31297673e+00],\n",
       "       [-1.39813811e+00, -1.18150376e+00],\n",
       "       [-1.39813811e+00, -1.18150376e+00],\n",
       "       [-1.39813811e+00, -1.31297673e+00],\n",
       "       [-1.22754100e+00, -7.87084847e-01],\n",
       "       [-1.05694388e+00, -1.05003079e+00],\n",
       "       [-1.34127240e+00, -1.18150376e+00],\n",
       "       [-1.22754100e+00, -1.31297673e+00],\n",
       "       [-1.34127240e+00, -1.31297673e+00],\n",
       "       [-1.28440670e+00, -1.31297673e+00],\n",
       "       [-1.34127240e+00, -1.31297673e+00],\n",
       "       [ 5.35295827e-01,  2.64698913e-01],\n",
       "       [ 4.21564419e-01,  3.96171883e-01],\n",
       "       [ 6.49027235e-01,  3.96171883e-01],\n",
       "       [ 1.37235899e-01,  1.33225943e-01],\n",
       "       [ 4.78430123e-01,  3.96171883e-01],\n",
       "       [ 4.21564419e-01,  1.33225943e-01],\n",
       "       [ 5.35295827e-01,  5.27644853e-01],\n",
       "       [-2.60824029e-01, -2.61192967e-01],\n",
       "       [ 4.78430123e-01,  1.33225943e-01],\n",
       "       [ 8.03701950e-02,  2.64698913e-01],\n",
       "       [-1.47092621e-01, -2.61192967e-01],\n",
       "       [ 2.50967307e-01,  3.96171883e-01],\n",
       "       [ 1.37235899e-01, -2.61192967e-01],\n",
       "       [ 5.35295827e-01,  2.64698913e-01],\n",
       "       [-9.02269170e-02,  1.33225943e-01],\n",
       "       [ 3.64698715e-01,  2.64698913e-01],\n",
       "       [ 4.21564419e-01,  3.96171883e-01],\n",
       "       [ 1.94101603e-01, -2.61192967e-01],\n",
       "       [ 4.21564419e-01,  3.96171883e-01],\n",
       "       [ 8.03701950e-02, -1.29719997e-01],\n",
       "       [ 5.92161531e-01,  7.90590793e-01],\n",
       "       [ 1.37235899e-01,  1.33225943e-01],\n",
       "       [ 6.49027235e-01,  3.96171883e-01],\n",
       "       [ 5.35295827e-01,  1.75297293e-03],\n",
       "       [ 3.07833011e-01,  1.33225943e-01],\n",
       "       [ 3.64698715e-01,  2.64698913e-01],\n",
       "       [ 5.92161531e-01,  2.64698913e-01],\n",
       "       [ 7.05892939e-01,  6.59117823e-01],\n",
       "       [ 4.21564419e-01,  3.96171883e-01],\n",
       "       [-1.47092621e-01, -2.61192967e-01],\n",
       "       [ 2.35044910e-02, -1.29719997e-01],\n",
       "       [-3.33612130e-02, -2.61192967e-01],\n",
       "       [ 8.03701950e-02,  1.75297293e-03],\n",
       "       [ 7.62758643e-01,  5.27644853e-01],\n",
       "       [ 4.21564419e-01,  3.96171883e-01],\n",
       "       [ 4.21564419e-01,  5.27644853e-01],\n",
       "       [ 5.35295827e-01,  3.96171883e-01],\n",
       "       [ 3.64698715e-01,  1.33225943e-01],\n",
       "       [ 1.94101603e-01,  1.33225943e-01],\n",
       "       [ 1.37235899e-01,  1.33225943e-01],\n",
       "       [ 3.64698715e-01,  1.75297293e-03],\n",
       "       [ 4.78430123e-01,  2.64698913e-01],\n",
       "       [ 1.37235899e-01,  1.75297293e-03],\n",
       "       [-2.60824029e-01, -2.61192967e-01],\n",
       "       [ 2.50967307e-01,  1.33225943e-01],\n",
       "       [ 2.50967307e-01,  1.75297293e-03],\n",
       "       [ 2.50967307e-01,  1.33225943e-01],\n",
       "       [ 3.07833011e-01,  1.33225943e-01],\n",
       "       [-4.31421141e-01, -1.29719997e-01],\n",
       "       [ 1.94101603e-01,  1.33225943e-01],\n",
       "       [ 1.27454998e+00,  1.71090158e+00],\n",
       "       [ 7.62758643e-01,  9.22063763e-01],\n",
       "       [ 1.21768427e+00,  1.18500970e+00],\n",
       "       [ 1.04708716e+00,  7.90590793e-01],\n",
       "       [ 1.16081857e+00,  1.31648267e+00],\n",
       "       [ 1.61574420e+00,  1.18500970e+00],\n",
       "       [ 4.21564419e-01,  6.59117823e-01],\n",
       "       [ 1.44514709e+00,  7.90590793e-01],\n",
       "       [ 1.16081857e+00,  7.90590793e-01],\n",
       "       [ 1.33141568e+00,  1.71090158e+00],\n",
       "       [ 7.62758643e-01,  1.05353673e+00],\n",
       "       [ 8.76490051e-01,  9.22063763e-01],\n",
       "       [ 9.90221459e-01,  1.18500970e+00],\n",
       "       [ 7.05892939e-01,  1.05353673e+00],\n",
       "       [ 7.62758643e-01,  1.57942861e+00],\n",
       "       [ 8.76490051e-01,  1.44795564e+00],\n",
       "       [ 9.90221459e-01,  7.90590793e-01],\n",
       "       [ 1.67260991e+00,  1.31648267e+00],\n",
       "       [ 1.78634131e+00,  1.44795564e+00],\n",
       "       [ 7.05892939e-01,  3.96171883e-01],\n",
       "       [ 1.10395287e+00,  1.44795564e+00],\n",
       "       [ 6.49027235e-01,  1.05353673e+00],\n",
       "       [ 1.67260991e+00,  1.05353673e+00],\n",
       "       [ 6.49027235e-01,  7.90590793e-01],\n",
       "       [ 1.10395287e+00,  1.18500970e+00],\n",
       "       [ 1.27454998e+00,  7.90590793e-01],\n",
       "       [ 5.92161531e-01,  7.90590793e-01],\n",
       "       [ 6.49027235e-01,  7.90590793e-01],\n",
       "       [ 1.04708716e+00,  1.18500970e+00],\n",
       "       [ 1.16081857e+00,  5.27644853e-01],\n",
       "       [ 1.33141568e+00,  9.22063763e-01],\n",
       "       [ 1.50201279e+00,  1.05353673e+00],\n",
       "       [ 1.04708716e+00,  1.31648267e+00],\n",
       "       [ 7.62758643e-01,  3.96171883e-01],\n",
       "       [ 1.04708716e+00,  2.64698913e-01],\n",
       "       [ 1.33141568e+00,  1.44795564e+00],\n",
       "       [ 1.04708716e+00,  1.57942861e+00],\n",
       "       [ 9.90221459e-01,  7.90590793e-01],\n",
       "       [ 5.92161531e-01,  7.90590793e-01],\n",
       "       [ 9.33355755e-01,  1.18500970e+00],\n",
       "       [ 1.04708716e+00,  1.57942861e+00],\n",
       "       [ 7.62758643e-01,  1.44795564e+00],\n",
       "       [ 7.62758643e-01,  9.22063763e-01],\n",
       "       [ 1.21768427e+00,  1.44795564e+00],\n",
       "       [ 1.10395287e+00,  1.71090158e+00],\n",
       "       [ 8.19624347e-01,  1.44795564e+00],\n",
       "       [ 7.05892939e-01,  9.22063763e-01],\n",
       "       [ 8.19624347e-01,  1.05353673e+00],\n",
       "       [ 9.33355755e-01,  1.44795564e+00],\n",
       "       [ 7.62758643e-01,  7.90590793e-01]])"
      ]
     },
     "execution_count": 10,
     "metadata": {},
     "output_type": "execute_result"
    }
   ],
   "source": [
    "from sklearn.preprocessing import StandardScaler\n",
    "x=StandardScaler().fit_transform(x)\n",
    "x"
   ]
  },
  {
   "cell_type": "markdown",
   "id": "951bd72c",
   "metadata": {},
   "source": [
    "### Step 6:-Plot data to estimate number of Clusters"
   ]
  },
  {
   "cell_type": "code",
   "execution_count": 11,
   "id": "fa4aca2d",
   "metadata": {},
   "outputs": [
    {
     "data": {
      "text/plain": [
       "Text(0.5, 1.0, 'K-Means Clustering')"
      ]
     },
     "execution_count": 11,
     "metadata": {},
     "output_type": "execute_result"
    },
    {
     "data": {
      "image/png": "[encoded data removed]",
      "text/plain": [
       "<Figure size 432x360 with 1 Axes>"
      ]
     },
     "metadata": {
      "needs_background": "light"
     },
     "output_type": "display_data"
    }
   ],
   "source": [
    "X=pd.DataFrame(x,columns=features)\n",
    "plt.figure(figsize=(6,5))\n",
    "plt.scatter(X['PetalLengthCm'], X['PetalWidthCm'])\n",
    "plt.xlabel('Petal Length (cm)')\n",
    "plt.ylabel('Petal Width (cm)');\n",
    "plt.grid()\n",
    "plt.title('K-Means Clustering')\n"
   ]
  },
  {
   "cell_type": "markdown",
   "id": "42eccf50",
   "metadata": {},
   "source": [
    "### Step 7:-Finding the optimum number of clusters for K-means Clustering"
   ]
  },
  {
   "cell_type": "code",
   "execution_count": 12,
   "id": "e4ab59c6",
   "metadata": {},
   "outputs": [
    {
     "data": {
      "image/png": "[encoded data removed]",
      "text/plain": [
       "<Figure size 432x288 with 1 Axes>"
      ]
     },
     "metadata": {
      "needs_background": "light"
     },
     "output_type": "display_data"
    }
   ],
   "source": [
    "from sklearn.cluster import KMeans\n",
    "wc = []\n",
    "\n",
    "for i in range(1, 11):\n",
    "    kmeans = KMeans(n_clusters = i, init = 'k-means++', \n",
    "                    max_iter = 300, n_init = 10, random_state = 0)\n",
    "    kmeans.fit(x)\n",
    "    wc.append(kmeans.inertia_)\n",
    "    \n",
    "# Plotting the results onto a line graph\n",
    "plt.plot(range(1, 11), wc)\n",
    "plt.title('The elbow method')\n",
    "plt.xlabel('Number of clusters')\n",
    "plt.ylabel('WCSS') # Within cluster sum of squares\n",
    "plt.show()\n"
   ]
  },
  {
   "cell_type": "markdown",
   "id": "29c0876d",
   "metadata": {},
   "source": [
    "#### It is called \"The Elbow Method\". The Elbow method is a heuristic method of interpretation and validation of consistency within-cluster analysis designed to help to find the appropriate number of clusters in a dataset."
   ]
  },
  {
   "cell_type": "markdown",
   "id": "fe173420",
   "metadata": {},
   "source": [
    "### Step 8:-K-Means Clustering"
   ]
  },
  {
   "cell_type": "code",
   "execution_count": 13,
   "id": "42175c87",
   "metadata": {},
   "outputs": [
    {
     "data": {
      "text/plain": [
       "KMeans(n_clusters=3, random_state=1)"
      ]
     },
     "execution_count": 13,
     "metadata": {},
     "output_type": "execute_result"
    }
   ],
   "source": [
    "# Make an instance of KMeans with 3 clusters\n",
    "kmeans = KMeans(n_clusters=3, random_state=1)\n",
    "\n",
    "# Fit only on a features matrix\n",
    "kmeans.fit(x)"
   ]
  },
  {
   "cell_type": "code",
   "execution_count": 14,
   "id": "7aad96c4",
   "metadata": {},
   "outputs": [],
   "source": [
    "# Get labels and cluster centroids\n",
    "labels = kmeans.labels_\n",
    "centroids = kmeans.cluster_centers_\n"
   ]
  },
  {
   "cell_type": "code",
   "execution_count": 15,
   "id": "04ef490b",
   "metadata": {},
   "outputs": [
    {
     "data": {
      "text/plain": [
       "array([0, 0, 0, 0, 0, 0, 0, 0, 0, 0, 0, 0, 0, 0, 0, 0, 0, 0, 0, 0, 0, 0,\n",
       "       0, 0, 0, 0, 0, 0, 0, 0, 0, 0, 0, 0, 0, 0, 0, 0, 0, 0, 0, 0, 0, 0,\n",
       "       0, 0, 0, 0, 0, 0, 2, 2, 2, 2, 2, 2, 2, 2, 2, 2, 2, 2, 2, 2, 2, 2,\n",
       "       2, 2, 2, 2, 1, 2, 2, 2, 2, 2, 2, 1, 2, 2, 2, 2, 2, 2, 2, 2, 2, 2,\n",
       "       2, 2, 2, 2, 2, 2, 2, 2, 2, 2, 2, 2, 1, 1, 1, 1, 1, 1, 2, 1, 1, 1,\n",
       "       1, 1, 1, 1, 1, 1, 1, 1, 1, 2, 1, 1, 1, 1, 1, 1, 1, 1, 1, 1, 1, 1,\n",
       "       1, 2, 2, 1, 1, 1, 1, 1, 1, 1, 1, 1, 1, 1, 1, 1, 1, 1])"
      ]
     },
     "execution_count": 15,
     "metadata": {},
     "output_type": "execute_result"
    }
   ],
   "source": [
    "labels\n"
   ]
  },
  {
   "cell_type": "code",
   "execution_count": 16,
   "id": "d1b15bfd",
   "metadata": {},
   "outputs": [
    {
     "data": {
      "text/plain": [
       "array([[-1.30487835, -1.25512862],\n",
       "       [ 1.02813193,  1.12749028],\n",
       "       [ 0.30564587,  0.16609419]])"
      ]
     },
     "execution_count": 16,
     "metadata": {},
     "output_type": "execute_result"
    }
   ],
   "source": [
    "centroids"
   ]
  },
  {
   "cell_type": "markdown",
   "id": "c1cbba94",
   "metadata": {},
   "source": [
    "### STEP 9:-Visually Evaluate the Clusters"
   ]
  },
  {
   "cell_type": "code",
   "execution_count": 17,
   "id": "959a367e",
   "metadata": {},
   "outputs": [
    {
     "data": {
      "image/png": "[encoded data removed]",
      "text/plain": [
       "<Figure size 432x288 with 1 Axes>"
      ]
     },
     "metadata": {
      "needs_background": "light"
     },
     "output_type": "display_data"
    }
   ],
   "source": [
    "colormap = np.array(['r', 'g', 'b'])\n",
    "plt.scatter(X['PetalLengthCm'], X['PetalWidthCm'], c=colormap[labels])\n",
    "plt.scatter(centroids[:,0], centroids[:,1], s = 300, marker = 'x', c = 'k')\n",
    "\n",
    "plt.xlabel('petal length (cm)')\n",
    "plt.ylabel('petal width (cm)');\n"
   ]
  },
  {
   "cell_type": "code",
   "execution_count": 18,
   "id": "57fd2822",
   "metadata": {},
   "outputs": [
    {
     "data": {
      "text/plain": [
       "<matplotlib.legend.Legend at 0x1ac56878640>"
      ]
     },
     "execution_count": 18,
     "metadata": {},
     "output_type": "execute_result"
    },
    {
     "data": {
      "image/png": "[encoded data removed]",
      "text/plain": [
       "<Figure size 432x288 with 1 Axes>"
      ]
     },
     "metadata": {
      "needs_background": "light"
     },
     "output_type": "display_data"
    }
   ],
   "source": [
    "# Plotting the centroids of the clusters\n",
    "plt.scatter(kmeans.cluster_centers_[:, 0], kmeans.cluster_centers_[:,1], \n",
    "            s = 100, c = 'yellow', label = 'Centroids')\n",
    "\n",
    "plt.legend()"
   ]
  },
  {
   "cell_type": "markdown",
   "id": "853747f7",
   "metadata": {},
   "source": [
    "### STEP 10:-Visually Evaluate the clusters and compare the species\n"
   ]
  },
  {
   "cell_type": "code",
   "execution_count": 24,
   "id": "42f3460d",
   "metadata": {},
   "outputs": [],
   "source": [
    "# Applying kmeans to the dataset / Creating the kmeans classifier\n",
    "kmeans = KMeans(n_clusters = 3, init = 'k-means++',\n",
    "                max_iter = 300, n_init = 10, random_state = 0)\n",
    "y_kmeans = kmeans.fit_predict(x)"
   ]
  },
  {
   "cell_type": "code",
   "execution_count": 25,
   "id": "b06e28b4",
   "metadata": {},
   "outputs": [
    {
     "data": {
      "text/plain": [
       "<matplotlib.legend.Legend at 0x1ac57c11520>"
      ]
     },
     "execution_count": 25,
     "metadata": {},
     "output_type": "execute_result"
    },
    {
     "data": {
      "image/png": "[encoded data removed]",
      "text/plain": [
       "<Figure size 432x288 with 1 Axes>"
      ]
     },
     "metadata": {
      "needs_background": "light"
     },
     "output_type": "display_data"
    }
   ],
   "source": [
    "#Visualising the clusters - On the first two columns\n",
    "plt.scatter(x[y_kmeans == 0, 0], x[y_kmeans == 0, 1], \n",
    "            s = 100, c = 'red', label = 'Iris-setosa')\n",
    "plt.scatter(x[y_kmeans == 1, 0], x[y_kmeans == 1, 1], \n",
    "            s = 100, c = 'blue', label = 'Iris-versicolour')\n",
    "plt.scatter(x[y_kmeans == 2, 0], x[y_kmeans == 2, 1],\n",
    "            s = 100, c = 'green', label = 'Iris-virginica')\n",
    "\n",
    "# Plotting the centroids of the clusters\n",
    "plt.scatter(kmeans.cluster_centers_[:, 0], kmeans.cluster_centers_[:,1], \n",
    "            s = 100, c = 'yellow', label = 'Centroids')\n",
    "\n",
    "plt.legend()"
   ]
  },
  {
   "cell_type": "markdown",
   "id": "7d6eff2c",
   "metadata": {},
   "source": [
    "#### They look pretty similar. Looks like KMeans picked up flower differences with only two features and not the labels."
   ]
  },
  {
   "cell_type": "code",
   "execution_count": null,
   "id": "61d09eea",
   "metadata": {},
   "outputs": [],
   "source": []
  }
 ],
 "metadata": {
  "kernelspec": {
   "display_name": "Python 3 (ipykernel)",
   "language": "python",
   "name": "python3"
  },
  "language_info": {
   "codemirror_mode": {
    "name": "ipython",
    "version": 3
   },
   "file_extension": ".py",
   "mimetype": "text/x-python",
   "name": "python",
   "nbconvert_exporter": "python",
   "pygments_lexer": "ipython3",
   "version": "3.9.12"
  }
 },
 "nbformat": 4,
 "nbformat_minor": 5
}
